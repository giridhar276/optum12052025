{
 "cells": [
  {
   "cell_type": "code",
   "execution_count": null,
   "id": "711ea620",
   "metadata": {},
   "outputs": [],
   "source": [
    "import pandas as pd"
   ]
  },
  {
   "cell_type": "code",
   "execution_count": null,
   "id": "98ad630f",
   "metadata": {},
   "outputs": [],
   "source": [
    "df = pd.read_csv(\"employee.csv\")\n",
    "\n"
   ]
  },
  {
   "cell_type": "markdown",
   "id": "d3d6e211",
   "metadata": {},
   "source": [
    "### read first 5 rows"
   ]
  },
  {
   "cell_type": "code",
   "execution_count": null,
   "id": "16c97e45",
   "metadata": {},
   "outputs": [],
   "source": [
    "# display first 5rows\n",
    "df.head()"
   ]
  },
  {
   "cell_type": "code",
   "execution_count": null,
   "id": "7dd8c8a7",
   "metadata": {},
   "outputs": [],
   "source": [
    "# display lst 5 rows\n",
    "df.tail(5)"
   ]
  },
  {
   "cell_type": "code",
   "execution_count": null,
   "id": "1f8da405",
   "metadata": {},
   "outputs": [],
   "source": [
    "df.head(20)"
   ]
  },
  {
   "cell_type": "code",
   "execution_count": null,
   "id": "d7b74f6d",
   "metadata": {},
   "outputs": [],
   "source": [
    "# display all the column names\n",
    "df.columns"
   ]
  },
  {
   "cell_type": "code",
   "execution_count": null,
   "id": "a38d4fcc",
   "metadata": {},
   "outputs": [],
   "source": [
    "# dsiplay information about dataframe\n",
    "df.info()"
   ]
  },
  {
   "cell_type": "code",
   "execution_count": null,
   "id": "9a55a575",
   "metadata": {},
   "outputs": [],
   "source": [
    "# display datatypes\n",
    "df.dtypes"
   ]
  },
  {
   "cell_type": "code",
   "execution_count": null,
   "id": "cc281f5e",
   "metadata": {},
   "outputs": [],
   "source": [
    "# describe datafarme\n",
    "df.describe()   # dsiplay numerical columns"
   ]
  },
  {
   "cell_type": "code",
   "execution_count": null,
   "id": "85df0bf9",
   "metadata": {},
   "outputs": [],
   "source": [
    "df.describe(include='all')"
   ]
  },
  {
   "cell_type": "code",
   "execution_count": null,
   "id": "0978ecb4",
   "metadata": {},
   "outputs": [],
   "source": [
    "#df.iloc[rows,columns]    # displaying required rows and columns\n",
    "df.iloc[5:10]     #rows--> 5:10"
   ]
  },
  {
   "cell_type": "code",
   "execution_count": null,
   "id": "dbd99948",
   "metadata": {},
   "outputs": [],
   "source": [
    "df.iloc[5:10,4:6]"
   ]
  },
  {
   "cell_type": "code",
   "execution_count": null,
   "id": "1b0e0583",
   "metadata": {},
   "outputs": [],
   "source": [
    "output = df.iloc[5:10,4:6]\n",
    "output.to_csv(\"processed.csv\")"
   ]
  },
  {
   "cell_type": "code",
   "execution_count": null,
   "id": "d1a2678d",
   "metadata": {},
   "outputs": [],
   "source": [
    "# display only one column\n",
    "df['workclass']        #in sql ... select workclass from tablename"
   ]
  },
  {
   "cell_type": "code",
   "execution_count": null,
   "id": "b6d7f6f9",
   "metadata": {},
   "outputs": [],
   "source": [
    "df[['age','workclass','education']]"
   ]
  },
  {
   "cell_type": "code",
   "execution_count": null,
   "id": "3784b79e",
   "metadata": {},
   "outputs": [],
   "source": [
    "df['workclass'].unique()   # display unique workclasses"
   ]
  },
  {
   "cell_type": "code",
   "execution_count": null,
   "id": "ca5f09f5",
   "metadata": {},
   "outputs": [],
   "source": [
    "df['workclass'].nunique()"
   ]
  },
  {
   "cell_type": "code",
   "execution_count": null,
   "id": "e685f044",
   "metadata": {},
   "outputs": [],
   "source": [
    "df['workclass'].str.strip().unique()"
   ]
  },
  {
   "cell_type": "code",
   "execution_count": null,
   "id": "1f907164",
   "metadata": {},
   "outputs": [],
   "source": [
    "# select * from tablenwme where gender ='Female'\n",
    "\n",
    "cond = df['gender'] == ' Female'\n",
    "df[cond]\n",
    "\n",
    "# or\n",
    "\n",
    "#df[df['gender']==' Female']\n"
   ]
  },
  {
   "cell_type": "code",
   "execution_count": null,
   "id": "0c8a741e",
   "metadata": {},
   "outputs": [],
   "source": [
    "cond = df['gender'] == ' Female'\n",
    "df.where(cond).dropna()"
   ]
  },
  {
   "cell_type": "code",
   "execution_count": null,
   "id": "3305236e",
   "metadata": {},
   "outputs": [],
   "source": [
    "df.query(\"gender == ' Female'\")"
   ]
  },
  {
   "cell_type": "code",
   "execution_count": null,
   "id": "c405c7b2",
   "metadata": {},
   "outputs": [],
   "source": [
    "#multiple conditions\n",
    "cond1 = df['workclass'] == ' Private'\n",
    "cond2 = df['gender'] == ' Male'\n",
    "\n",
    "df[cond1 & cond2]"
   ]
  },
  {
   "cell_type": "code",
   "execution_count": null,
   "id": "ebf275a6",
   "metadata": {},
   "outputs": [],
   "source": [
    "#multiple conditions\n",
    "df.query(\"workclass ==' Private' and gender == ' Male'\")"
   ]
  },
  {
   "cell_type": "code",
   "execution_count": null,
   "id": "15002062",
   "metadata": {},
   "outputs": [],
   "source": [
    "df.sort_values('educational-num')  # ascending order\n"
   ]
  },
  {
   "cell_type": "code",
   "execution_count": null,
   "id": "f52b2879",
   "metadata": {},
   "outputs": [],
   "source": [
    "# sorting on one column\n",
    "df.sort_values('educational-num', ascending=False)  # descending order"
   ]
  },
  {
   "cell_type": "code",
   "execution_count": null,
   "id": "70f43c40",
   "metadata": {},
   "outputs": [],
   "source": [
    "# sorting based on educational num and then hoursperweek\n",
    "df.sort_values(['educational-num','hours-per-week'])"
   ]
  },
  {
   "cell_type": "code",
   "execution_count": null,
   "id": "79229a28",
   "metadata": {},
   "outputs": [],
   "source": [
    "# remove one or more columns\n",
    "df.drop(columns = ['workclass'])"
   ]
  },
  {
   "cell_type": "code",
   "execution_count": null,
   "id": "c8a570d5",
   "metadata": {},
   "outputs": [],
   "source": [
    "df"
   ]
  },
  {
   "cell_type": "code",
   "execution_count": null,
   "id": "0fc4d990",
   "metadata": {},
   "outputs": [],
   "source": [
    "# updating the dataframe after removing workclass\n",
    "#df.drop(columns = ['workclass'], inplace=True)"
   ]
  },
  {
   "cell_type": "code",
   "execution_count": null,
   "id": "e73eb2ca",
   "metadata": {},
   "outputs": [],
   "source": [
    "df"
   ]
  },
  {
   "cell_type": "code",
   "execution_count": null,
   "id": "65fa11e3",
   "metadata": {},
   "outputs": [],
   "source": [
    "# remove duplicate rows\n",
    "df.drop_duplicates()"
   ]
  },
  {
   "cell_type": "code",
   "execution_count": null,
   "id": "b67f271e",
   "metadata": {},
   "outputs": [],
   "source": [
    "df.sample(frac=0.05)"
   ]
  },
  {
   "cell_type": "code",
   "execution_count": null,
   "id": "207f0dee",
   "metadata": {},
   "outputs": [],
   "source": [
    "df.sample(n=5)"
   ]
  },
  {
   "cell_type": "code",
   "execution_count": null,
   "id": "f8e90d4c",
   "metadata": {},
   "outputs": [],
   "source": [
    "# average age by education \n",
    "df.groupby('education')['age'].mean()\n",
    "\n",
    "\n",
    "# select education, avg(age) from tablename groupby education"
   ]
  },
  {
   "cell_type": "code",
   "execution_count": null,
   "id": "dd447777",
   "metadata": {},
   "outputs": [],
   "source": [
    "df['gender'].value_counts()"
   ]
  },
  {
   "cell_type": "code",
   "execution_count": null,
   "id": "b5e233b1",
   "metadata": {},
   "outputs": [],
   "source": [
    "df['workclass'].value_counts()"
   ]
  },
  {
   "cell_type": "code",
   "execution_count": null,
   "id": "fad52718",
   "metadata": {},
   "outputs": [],
   "source": [
    "# total capital gain by gender\n",
    "df.groupby('gender')['capital-gain'].sum()"
   ]
  },
  {
   "cell_type": "code",
   "execution_count": null,
   "id": "9eded822",
   "metadata": {},
   "outputs": [],
   "source": [
    "# count of people per workclass\n",
    "df.groupby('workclass').size()"
   ]
  },
  {
   "cell_type": "code",
   "execution_count": null,
   "id": "b5247d13",
   "metadata": {},
   "outputs": [],
   "source": [
    "df['workclass'].value_counts()"
   ]
  },
  {
   "cell_type": "code",
   "execution_count": null,
   "id": "220c8f5e",
   "metadata": {},
   "outputs": [],
   "source": [
    "import matplotlib.pyplot as plt\n",
    "df['workclass'].value_counts().plot.pie(autopct=\"%1.1f%%\", figsize = (6,6),title=\"Workclass distribution\")\n",
    "#plt.show()\n",
    "plt.savefig(\"workclasss.jpg\")\n"
   ]
  },
  {
   "cell_type": "code",
   "execution_count": null,
   "id": "cc909b6a",
   "metadata": {},
   "outputs": [],
   "source": [
    "df['age'].plot.hist(bins=20,figsize=(8,5),title= \"Age distribution\")"
   ]
  },
  {
   "cell_type": "code",
   "execution_count": null,
   "id": "e0f11745",
   "metadata": {},
   "outputs": [],
   "source": [
    "df.boxplot(\n",
    "    column='hours-per-week',\n",
    "    by='gender',\n",
    "    figsize=(8, 5)\n",
    ")\n",
    "plt.title('Hours-per-Week by Gender')\n",
    "plt.xlabel(\"Gender\")\n",
    "plt.ylabel(\"Hours per Week\")\n",
    "plt.show()"
   ]
  },
  {
   "cell_type": "code",
   "execution_count": null,
   "id": "df4a0c7e",
   "metadata": {},
   "outputs": [
    {
     "data": {
      "text/plain": [
       "<Axes: xlabel='education'>"
      ]
     },
     "execution_count": 155,
     "metadata": {},
     "output_type": "execute_result"
    },
    {
     "data": {
      "image/png": "[encoded data removed]",
      "text/plain": [
       "<Figure size 640x480 with 1 Axes>"
      ]
     },
     "metadata": {},
     "output_type": "display_data"
    }
   ],
   "source": [
    "df['education'].value_counts().sort_values().plot.bar()\n",
    "\n",
    "#or\n",
    "df['education'].value_counts().sort_values().plot(kind = 'bar')"
   ]
  },
  {
   "cell_type": "code",
   "execution_count": null,
   "id": "3b3627c1",
   "metadata": {},
   "outputs": [],
   "source": []
  },
  {
   "cell_type": "code",
   "execution_count": null,
   "id": "df596411",
   "metadata": {},
   "outputs": [],
   "source": []
  }
 ],
 "metadata": {
  "kernelspec": {
   "display_name": "Python 3",
   "language": "python",
   "name": "python3"
  },
  "language_info": {
   "codemirror_mode": {
    "name": "ipython",
    "version": 3
   },
   "file_extension": ".py",
   "mimetype": "text/x-python",
   "name": "python",
   "nbconvert_exporter": "python",
   "pygments_lexer": "ipython3",
   "version": "3.11.9"
  }
 },
 "nbformat": 4,
 "nbformat_minor": 5
}
