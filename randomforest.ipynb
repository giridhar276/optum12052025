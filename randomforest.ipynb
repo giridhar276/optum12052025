{
 "cells": [
  {
   "cell_type": "code",
   "execution_count": null,
   "id": "b9486f62",
   "metadata": {},
   "outputs": [],
   "source": [
    "import pandas as pd\n",
    "import sklearn as sk\n",
    "import numpy as np\n",
    "import scipy as sp"
   ]
  },
  {
   "cell_type": "code",
   "execution_count": null,
   "id": "57ee730e",
   "metadata": {},
   "outputs": [],
   "source": [
    "# Importing dataset\n",
    "car_train = pd.read_csv(\"./Datasets/Car Accidents IOT/train.csv\")\n",
    "car_test = pd.read_csv(\"./Datasets/Car Accidents IOT/test.csv\")"
   ]
  },
  {
   "cell_type": "code",
   "execution_count": null,
   "id": "42883b62",
   "metadata": {},
   "outputs": [],
   "source": [
    "from sklearn import tree\n",
    "\n",
    "var = list(car_train.columns[1:22])\n",
    "c = car_train[var]\n",
    "d = car_train['Fatal']"
   ]
  },
  {
   "cell_type": "code",
   "execution_count": null,
   "id": "001d7976",
   "metadata": {},
   "outputs": [],
   "source": [
    "# Building Decision Tree on the training data\n",
    "clf = tree.DecisionTreeClassifier()\n",
    "clf.fit(c, d)"
   ]
  },
  {
   "cell_type": "code",
   "execution_count": null,
   "id": "0e7a2306",
   "metadata": {},
   "outputs": [],
   "source": [
    "# Predicting on test data\n",
    "tree_predict = clf.predict(car_test[var])"
   ]
  },
  {
   "cell_type": "code",
   "execution_count": null,
   "id": "36f665d4",
   "metadata": {},
   "outputs": [],
   "source": [
    "from sklearn.metrics import confusion_matrix\n",
    "cm1 = confusion_matrix(car_test[['Fatal']], tree_predict)\n",
    "print(cm1)"
   ]
  },
  {
   "cell_type": "code",
   "execution_count": null,
   "id": "9c2670d1",
   "metadata": {},
   "outputs": [],
   "source": [
    "# Accuracy calculation from confusion matrix\n",
    "total1 = sum(sum(cm1))\n",
    "accuracy_tree = (cm1[0, 0] + cm1[1, 1]) / total1\n",
    "accuracy_tree"
   ]
  },
  {
   "cell_type": "code",
   "execution_count": null,
   "id": "2fe28a24",
   "metadata": {},
   "outputs": [],
   "source": [
    "# Building Random Forest Model\n",
    "from sklearn.ensemble import RandomForestClassifier\n",
    "forest = RandomForestClassifier(n_estimators=10, max_features=5)\n",
    "forest.fit(c, d)"
   ]
  },
  {
   "cell_type": "code",
   "execution_count": null,
   "id": "62b43f1d",
   "metadata": {},
   "outputs": [],
   "source": [
    "forestpredict_test = forest.predict(car_test[var])\n",
    "e = car_test['Fatal']\n",
    "e"
   ]
  },
  {
   "cell_type": "code",
   "execution_count": null,
   "id": "3b13a9b1",
   "metadata": {},
   "outputs": [],
   "source": [
    "# Check accuracy on test data\n",
    "cm2 = confusion_matrix(car_test[['Fatal']], forestpredict_test)\n",
    "print(cm2)"
   ]
  },
  {
   "cell_type": "code",
   "execution_count": null,
   "id": "064a68cf",
   "metadata": {},
   "outputs": [],
   "source": [
    "total2 = sum(sum(cm2))\n",
    "accuracy_forest = (cm2[0, 0] + cm2[1, 1]) / total2\n",
    "accuracy_forest"
   ]
  },
  {
   "cell_type": "code",
   "execution_count": null,
   "id": "ffc5ee3c",
   "metadata": {},
   "outputs": [],
   "source": [
    "# LAB: Boosting\n",
    "# Importing the datasets\n",
    "menu_train = pd.read_csv(\"./Datasets/Ecom_Products_Menu/train.csv\")\n",
    "menu_test = pd.read_csv(\"./Datasets/Ecom_Products_Menu/test.csv\")"
   ]
  },
  {
   "cell_type": "code",
   "execution_count": null,
   "id": "a2d80c0a",
   "metadata": {},
   "outputs": [],
   "source": [
    "lab = list(menu_train.columns[1:101])\n",
    "g = menu_train[lab]\n",
    "h = menu_train['Category']\n",
    "menu_train['Category'].value_counts()"
   ]
  },
  {
   "cell_type": "code",
   "execution_count": null,
   "id": "431fa5c6",
   "metadata": {},
   "outputs": [],
   "source": [
    "# Building Decision Tree on the training data\n",
    "from sklearn import tree\n",
    "tree = tree.DecisionTreeClassifier()\n",
    "tree.fit(g, h)"
   ]
  },
  {
   "cell_type": "code",
   "execution_count": null,
   "id": "c2503c2c",
   "metadata": {},
   "outputs": [],
   "source": [
    "# Predicting on test data\n",
    "tree_predict = tree.predict(menu_test[lab])\n",
    "cm1 = confusion_matrix(menu_test['Category'], tree_predict)\n",
    "print(cm1)"
   ]
  },
  {
   "cell_type": "code",
   "execution_count": null,
   "id": "2fbf05bc",
   "metadata": {},
   "outputs": [],
   "source": [
    "from sklearn.metrics import f1_score\n",
    "f1_score(menu_test['Category'], tree_predict, average='micro')"
   ]
  },
  {
   "cell_type": "code",
   "execution_count": null,
   "id": "9163274a",
   "metadata": {},
   "outputs": [],
   "source": [
    "# Gradient Boosting\n",
    "from sklearn.ensemble import GradientBoostingClassifier\n",
    "boost = GradientBoostingClassifier(loss='deviance',\n",
    "                                   learning_rate=0.1,\n",
    "                                   n_estimators=100,\n",
    "                                   min_samples_leaf=5,\n",
    "                                   max_depth=3,\n",
    "                                   verbose=1)"
   ]
  },
  {
   "cell_type": "code",
   "execution_count": null,
   "id": "040b6458",
   "metadata": {},
   "outputs": [],
   "source": [
    "import datetime\n",
    "start_time = datetime.datetime.now()\n",
    "boost.fit(g, h)\n",
    "end_time = datetime.datetime.now()\n",
    "print(end_time - start_time)"
   ]
  },
  {
   "cell_type": "code",
   "execution_count": null,
   "id": "8f203f36",
   "metadata": {},
   "outputs": [],
   "source": [
    "boost_predict = boost.predict(menu_test[lab])\n",
    "cm2 = confusion_matrix(menu_test['Category'], boost_predict)\n",
    "print(cm2)"
   ]
  },
  {
   "cell_type": "code",
   "execution_count": null,
   "id": "741c060f",
   "metadata": {},
   "outputs": [],
   "source": [
    "f1_score(menu_test['Category'], boost_predict, average='micro')"
   ]
  }
 ],
 "metadata": {},
 "nbformat": 4,
 "nbformat_minor": 5
}
