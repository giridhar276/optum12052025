{
 "cells": [
  {
   "cell_type": "markdown",
   "id": "a87dcbf6",
   "metadata": {},
   "source": [
    "# Linear Regression on Hardware Data\n",
    "This notebook demonstrates how to generate synthetic hardware data and apply linear regression to predict power consumption based on CPU usage."
   ]
  },
  {
   "cell_type": "code",
   "execution_count": 16,
   "id": "f67f7e71",
   "metadata": {},
   "outputs": [],
   "source": [
    "\n",
    "import numpy as np\n",
    "import pandas as pd\n",
    "from sklearn.model_selection import train_test_split\n",
    "from sklearn.linear_model import LinearRegression\n",
    "import matplotlib.pyplot as plt\n",
    "from sklearn.metrics import mean_absolute_error, r2_score\n",
    "\n"
   ]
  },
  {
   "cell_type": "code",
   "execution_count": 17,
   "id": "630d27b7",
   "metadata": {},
   "outputs": [],
   "source": [
    "data = pd.read_csv('hardware.csv')"
   ]
  },
  {
   "cell_type": "code",
   "execution_count": 18,
   "id": "5d6c7f10",
   "metadata": {},
   "outputs": [
    {
     "data": {
      "text/html": [
       "<div>\n",
       "<style scoped>\n",
       "    .dataframe tbody tr th:only-of-type {\n",
       "        vertical-align: middle;\n",
       "    }\n",
       "\n",
       "    .dataframe tbody tr th {\n",
       "        vertical-align: top;\n",
       "    }\n",
       "\n",
       "    .dataframe thead th {\n",
       "        text-align: right;\n",
       "    }\n",
       "</style>\n",
       "<table border=\"1\" class=\"dataframe\">\n",
       "  <thead>\n",
       "    <tr style=\"text-align: right;\">\n",
       "      <th></th>\n",
       "      <th>Unnamed: 0</th>\n",
       "      <th>CPU_Usage</th>\n",
       "      <th>Power_Consumption</th>\n",
       "    </tr>\n",
       "  </thead>\n",
       "  <tbody>\n",
       "    <tr>\n",
       "      <th>0</th>\n",
       "      <td>0</td>\n",
       "      <td>37.454012</td>\n",
       "      <td>125.343259</td>\n",
       "    </tr>\n",
       "    <tr>\n",
       "      <th>1</th>\n",
       "      <td>1</td>\n",
       "      <td>95.071431</td>\n",
       "      <td>238.647825</td>\n",
       "    </tr>\n",
       "    <tr>\n",
       "      <th>2</th>\n",
       "      <td>2</td>\n",
       "      <td>73.199394</td>\n",
       "      <td>196.857592</td>\n",
       "    </tr>\n",
       "    <tr>\n",
       "      <th>3</th>\n",
       "      <td>3</td>\n",
       "      <td>59.865848</td>\n",
       "      <td>159.793852</td>\n",
       "    </tr>\n",
       "    <tr>\n",
       "      <th>4</th>\n",
       "      <td>4</td>\n",
       "      <td>15.601864</td>\n",
       "      <td>80.105369</td>\n",
       "    </tr>\n",
       "    <tr>\n",
       "      <th>...</th>\n",
       "      <td>...</td>\n",
       "      <td>...</td>\n",
       "      <td>...</td>\n",
       "    </tr>\n",
       "    <tr>\n",
       "      <th>95</th>\n",
       "      <td>95</td>\n",
       "      <td>49.379560</td>\n",
       "      <td>144.680068</td>\n",
       "    </tr>\n",
       "    <tr>\n",
       "      <th>96</th>\n",
       "      <td>96</td>\n",
       "      <td>52.273283</td>\n",
       "      <td>154.161057</td>\n",
       "    </tr>\n",
       "    <tr>\n",
       "      <th>97</th>\n",
       "      <td>97</td>\n",
       "      <td>42.754102</td>\n",
       "      <td>137.213964</td>\n",
       "    </tr>\n",
       "    <tr>\n",
       "      <th>98</th>\n",
       "      <td>98</td>\n",
       "      <td>2.541913</td>\n",
       "      <td>56.467279</td>\n",
       "    </tr>\n",
       "    <tr>\n",
       "      <th>99</th>\n",
       "      <td>99</td>\n",
       "      <td>10.789143</td>\n",
       "      <td>75.714202</td>\n",
       "    </tr>\n",
       "  </tbody>\n",
       "</table>\n",
       "<p>100 rows × 3 columns</p>\n",
       "</div>"
      ],
      "text/plain": [
       "    Unnamed: 0  CPU_Usage  Power_Consumption\n",
       "0            0  37.454012         125.343259\n",
       "1            1  95.071431         238.647825\n",
       "2            2  73.199394         196.857592\n",
       "3            3  59.865848         159.793852\n",
       "4            4  15.601864          80.105369\n",
       "..         ...        ...                ...\n",
       "95          95  49.379560         144.680068\n",
       "96          96  52.273283         154.161057\n",
       "97          97  42.754102         137.213964\n",
       "98          98   2.541913          56.467279\n",
       "99          99  10.789143          75.714202\n",
       "\n",
       "[100 rows x 3 columns]"
      ]
     },
     "execution_count": 18,
     "metadata": {},
     "output_type": "execute_result"
    }
   ],
   "source": [
    "data"
   ]
  },
  {
   "cell_type": "markdown",
   "id": "361adc11",
   "metadata": {},
   "source": [
    "## Split the Data\n",
    "We will split the data into training and testing sets."
   ]
  },
  {
   "cell_type": "code",
   "execution_count": 19,
   "id": "18b64920",
   "metadata": {},
   "outputs": [
    {
     "data": {
      "text/plain": [
       "((80, 1), (20, 1), (80,), (20,))"
      ]
     },
     "execution_count": 19,
     "metadata": {},
     "output_type": "execute_result"
    }
   ],
   "source": [
    "\n",
    "# Split the data into training and testing sets\n",
    "X = data[['CPU_Usage']]\n",
    "y = data['Power_Consumption']\n",
    "X_train, X_test, y_train, y_test = train_test_split(X, y, test_size=0.2, random_state=42)\n",
    "\n",
    "# Display the shapes of the train and test sets\n",
    "X_train.shape, X_test.shape, y_train.shape, y_test.shape\n"
   ]
  },
  {
   "cell_type": "markdown",
   "id": "80ccba39",
   "metadata": {},
   "source": [
    "## Train the Linear Regression Model\n",
    "We will create and train a linear regression model using the training data."
   ]
  },
  {
   "cell_type": "code",
   "execution_count": 20,
   "id": "a27f6e32",
   "metadata": {},
   "outputs": [
    {
     "name": "stdout",
     "output_type": "stream",
     "text": [
      "Intercept: 50.71456659729287\n",
      "Coefficient: 1.9799323657480272\n"
     ]
    }
   ],
   "source": [
    "\n",
    "# Create and train the model\n",
    "model = LinearRegression()\n",
    "model.fit(X_train, y_train)\n",
    "\n",
    "# Display the coefficients\n",
    "print(f'Intercept: {model.intercept_}')\n",
    "print(f'Coefficient: {model.coef_[0]}')\n"
   ]
  },
  {
   "cell_type": "markdown",
   "id": "4e5f6bbe",
   "metadata": {},
   "source": [
    "## Make Predictions\n",
    "We will use the trained model to make predictions on the test data."
   ]
  },
  {
   "cell_type": "code",
   "execution_count": 21,
   "id": "f95315b7",
   "metadata": {},
   "outputs": [
    {
     "data": {
      "text/plain": [
       "array([ 63.29869008, 227.88432988, 203.6138079 , 181.88949798,\n",
       "       101.95125272])"
      ]
     },
     "execution_count": 21,
     "metadata": {},
     "output_type": "execute_result"
    }
   ],
   "source": [
    "\n",
    "# Make predictions\n",
    "y_pred = model.predict(X_test)\n",
    "\n",
    "# Display the first few predictions\n",
    "y_pred[:5]\n"
   ]
  },
  {
   "cell_type": "markdown",
   "id": "c50859b0",
   "metadata": {},
   "source": [
    "## Plot the Results\n",
    "We will plot the actual vs predicted power consumption values."
   ]
  },
  {
   "cell_type": "code",
   "execution_count": 22,
   "id": "140b66a6",
   "metadata": {},
   "outputs": [
    {
     "data": {
      "image/png": "[encoded data removed]",
      "text/plain": [
       "<Figure size 640x480 with 1 Axes>"
      ]
     },
     "metadata": {},
     "output_type": "display_data"
    }
   ],
   "source": [
    "\n",
    "# Plot the results\n",
    "plt.scatter(X_test, y_test, color='blue', label='Actual Power Consumption')\n",
    "plt.plot(X_test, y_pred, color='red', linewidth=2, label='Predicted Power Consumption')\n",
    "plt.xlabel('CPU Usage (%)')\n",
    "plt.ylabel('Power Consumption (Watts)')\n",
    "plt.title('CPU Usage vs Power Consumption')\n",
    "plt.legend()\n",
    "plt.show()\n"
   ]
  },
  {
   "cell_type": "markdown",
   "id": "0963cd47",
   "metadata": {},
   "source": [
    "## Evaluate the Model\n",
    "We will evaluate the model using Mean Absolute Error (MAE) and R-squared (R²) score."
   ]
  },
  {
   "cell_type": "code",
   "execution_count": 23,
   "id": "42ae6237",
   "metadata": {},
   "outputs": [
    {
     "name": "stdout",
     "output_type": "stream",
     "text": [
      "Mean Absolute Error: 2.95671288959488\n",
      "R-squared: 0.9957338020477439\n"
     ]
    }
   ],
   "source": [
    "\n",
    "# Calculate evaluation metrics\n",
    "mae = mean_absolute_error(y_test, y_pred)\n",
    "r2 = r2_score(y_test, y_pred)\n",
    "\n",
    "print(f'Mean Absolute Error: {mae}')\n",
    "print(f'R-squared: {r2}')\n"
   ]
  }
 ],
 "metadata": {
  "kernelspec": {
   "display_name": "base",
   "language": "python",
   "name": "python3"
  },
  "language_info": {
   "codemirror_mode": {
    "name": "ipython",
    "version": 3
   },
   "file_extension": ".py",
   "mimetype": "text/x-python",
   "name": "python",
   "nbconvert_exporter": "python",
   "pygments_lexer": "ipython3",
   "version": "3.11.5"
  }
 },
 "nbformat": 4,
 "nbformat_minor": 5
}
