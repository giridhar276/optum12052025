{
 "cells": [
  {
   "cell_type": "markdown",
   "metadata": {},
   "source": [
    " # R-squared (R²)"
   ]
  },
  {
   "cell_type": "markdown",
   "metadata": {},
   "source": [
    "What it is: Think of R² as a score that tells you how well your model explains the data.\n",
    "\n",
    "How to understand it: A score of 1 means your model is perfect at predicting the outcome. A score close to 0 means your model isn't doing a good job at all.\n",
    "\n",
    "R² tells you how much of the variation in the outcome can be explained by your model."
   ]
  },
  {
   "cell_type": "markdown",
   "metadata": {},
   "source": [
    "# Adjusted R-squared"
   ]
  },
  {
   "cell_type": "markdown",
   "metadata": {},
   "source": [
    "What it is: This is like R² but smarter. It checks if adding more predictors (variables) actually helps your model or just makes it more complicated.\n",
    "\n",
    "How to understand it: If this number goes down when you add more variables, it means the new variables aren't really helping.\n",
    "\n",
    "Adjusted R² is like R² but adjusts for the number of variables in your model to avoid overfitting."
   ]
  },
  {
   "cell_type": "markdown",
   "metadata": {},
   "source": [
    "# Mean Absolute Error (MAE)"
   ]
  },
  {
   "cell_type": "markdown",
   "metadata": {},
   "source": [
    "What it is: This tells you, on average, how far off your predictions are from the actual values.\n",
    "\n",
    "How to understand it: A lower number is better. If the MAE is 5, it means your predictions are off by 5 units on average."
   ]
  },
  {
   "cell_type": "markdown",
   "metadata": {},
   "source": [
    "# Mean Squared Error (MSE)"
   ]
  },
  {
   "cell_type": "markdown",
   "metadata": {},
   "source": [
    "What it is: Similar to MAE, but it punishes bigger mistakes more than smaller ones by squaring the errors.\n",
    "\n",
    "How to understand it: Like MAE, a lower number is better. MSE gives more weight to larger errors, so it highlights big mistakes."
   ]
  },
  {
   "cell_type": "markdown",
   "metadata": {},
   "source": [
    "# Root Mean Squared Error (RMSE)"
   ]
  },
  {
   "cell_type": "markdown",
   "metadata": {},
   "source": [
    "What it is: This is just the square root of MSE, making it easier to compare with your data since it’s in the same units.\n",
    "\n",
    "How to understand it: A lower RMSE means your model’s predictions are closer to the actual values. It’s like an average error but more sensitive to large mistakes"
   ]
  },
  {
   "cell_type": "markdown",
   "metadata": {},
   "source": [
    "# Mean Bias Deviation (MBD)"
   ]
  },
  {
   "cell_type": "markdown",
   "metadata": {},
   "source": [
    "What it is: MBD tells you if your predictions are generally too high or too low.This tells you if your model is consistently overestimating or underestimating the outcomes.\n",
    "\n",
    "How to understand it: A positive number means your model is usually predicting too high, while a negative number means it's predicting too low."
   ]
  },
  {
   "cell_type": "markdown",
   "metadata": {},
   "source": [
    "# Residual Standard Error (RSE)"
   ]
  },
  {
   "cell_type": "markdown",
   "metadata": {},
   "source": [
    "What it is: This measures how much your model's predictions typically differ from the actual values.\n",
    "\n",
    "How to understand it: Smaller RSE means better predictions. It’s like an average error, but it shows the typical size of the mistakes."
   ]
  },
  {
   "cell_type": "markdown",
   "metadata": {},
   "source": []
  },
  {
   "cell_type": "markdown",
   "metadata": {},
   "source": [
    "#  F-statistic"
   ]
  },
  {
   "cell_type": "markdown",
   "metadata": {},
   "source": [
    "What it is: This checks if your overall model is useful.\n",
    "\n",
    "How to understand it: A higher F-statistic means your model is likely doing a good job of explaining the data, compared to using no predictors at all."
   ]
  },
  {
   "cell_type": "markdown",
   "metadata": {},
   "source": [
    "# P-values for Coefficients"
   ]
  },
  {
   "cell_type": "markdown",
   "metadata": {},
   "source": [
    "What it is: These tell you whether each predictor (variable) in your model is actually important.\n",
    "\n",
    "How to understand it: A small p-value (usually less than 0.05) means that variable is important for predicting the outcome."
   ]
  },
  {
   "cell_type": "markdown",
   "metadata": {},
   "source": [
    "# Akaike Information Criterion (AIC) and Bayesian Information Criterion (BIC)"
   ]
  },
  {
   "cell_type": "markdown",
   "metadata": {},
   "source": [
    "What it is: These are used to compare different models and see which one is better.\n",
    "How to understand it: Lower numbers are better, and they help you find the simplest model that still works well."
   ]
  },
  {
   "cell_type": "markdown",
   "metadata": {},
   "source": []
  }
 ],
 "metadata": {
  "kernelspec": {
   "display_name": "base",
   "language": "python",
   "name": "python3"
  },
  "language_info": {
   "codemirror_mode": {
    "name": "ipython",
    "version": 3
   },
   "file_extension": ".py",
   "mimetype": "text/x-python",
   "name": "python",
   "nbconvert_exporter": "python",
   "pygments_lexer": "ipython3",
   "version": "3.11.5"
  }
 },
 "nbformat": 4,
 "nbformat_minor": 2
}
