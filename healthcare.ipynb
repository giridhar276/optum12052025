{
 "cells": [
  {
   "cell_type": "code",
   "execution_count": null,
   "id": "7f54032f",
   "metadata": {},
   "outputs": [],
   "source": [
    "# 📌 Import Libraries\n",
    "import pandas as pd\n",
    "import numpy as np\n",
    "import matplotlib.pyplot as plt\n",
    "import seaborn as sns\n",
    "\n",
    "from sklearn.model_selection import train_test_split\n",
    "from sklearn.linear_model import LinearRegression\n",
    "from sklearn.metrics import mean_squared_error, r2_score\n"
   ]
  },
  {
   "cell_type": "code",
   "execution_count": null,
   "id": "59d448f5",
   "metadata": {},
   "outputs": [],
   "source": [
    "# 📌 Load Data\n",
    "df = pd.read_csv(\"healthcare_extended.csv\")  # Use correct path if needed\n",
    "print(\"Data shape:\", df.shape)\n",
    "print(df.dtypes)\n"
   ]
  },
  {
   "cell_type": "code",
   "execution_count": null,
   "id": "8d56479c",
   "metadata": {},
   "outputs": [],
   "source": [
    "# 📌 Handle Missing Values\n",
    "df = df.dropna()\n"
   ]
  },
  {
   "cell_type": "code",
   "execution_count": null,
   "id": "6034461f",
   "metadata": {},
   "outputs": [],
   "source": [
    "# 📌 One-Hot Encode Categorical Columns\n",
    "categorical_cols = df.select_dtypes(include=['object', 'category']).columns\n",
    "df_encoded = pd.get_dummies(df, columns=categorical_cols, drop_first=True)\n"
   ]
  },
  {
   "cell_type": "code",
   "execution_count": null,
   "id": "41c724de",
   "metadata": {},
   "outputs": [],
   "source": [
    "# 📌 Define Features and Target\n",
    "X = df_encoded.drop(\"charges\", axis=1)\n",
    "y = df_encoded[\"charges\"]\n"
   ]
  },
  {
   "cell_type": "code",
   "execution_count": null,
   "id": "a036ab79",
   "metadata": {},
   "outputs": [],
   "source": [
    "# 📌 Split the Data\n",
    "X_train, X_test, y_train, y_test = train_test_split(X, y, test_size=0.2, random_state=42)\n"
   ]
  },
  {
   "cell_type": "code",
   "execution_count": null,
   "id": "bc371b95",
   "metadata": {},
   "outputs": [],
   "source": [
    "# 📌 Train the Model\n",
    "model = LinearRegression()\n",
    "model.fit(X_train, y_train)\n"
   ]
  },
  {
   "cell_type": "code",
   "execution_count": null,
   "id": "fd9d4f27",
   "metadata": {},
   "outputs": [],
   "source": [
    "# 📌 Predict\n",
    "y_pred = model.predict(X_test)\n"
   ]
  },
  {
   "cell_type": "code",
   "execution_count": null,
   "id": "efd89a0c",
   "metadata": {},
   "outputs": [],
   "source": [
    "# 📌 Evaluation\n",
    "print(\"R2 Score:\", r2_score(y_test, y_pred))\n",
    "print(\"MSE:\", mean_squared_error(y_test, y_pred))\n"
   ]
  },
  {
   "cell_type": "code",
   "execution_count": null,
   "id": "4ac50d74",
   "metadata": {},
   "outputs": [],
   "source": [
    "# 📌 Correlation Heatmap\n",
    "plt.figure(figsize=(10, 6))\n",
    "sns.heatmap(df_encoded.corr(), cmap=\"coolwarm\", annot=False)\n",
    "plt.title(\"Correlation Heatmap\")\n",
    "plt.show()\n"
   ]
  }
 ],
 "metadata": {
  "kernelspec": {
   "display_name": "Python 3",
   "name": "python3"
  }
 },
 "nbformat": 4,
 "nbformat_minor": 5
}
